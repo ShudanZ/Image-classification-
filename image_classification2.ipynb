{
 "cells": [
  {
   "cell_type": "markdown",
   "metadata": {},
   "source": [
    "# This model uses Convolutional Neural Network(CNN)."
   ]
  },
  {
   "cell_type": "markdown",
   "metadata": {},
   "source": [
    "## Modeling process"
   ]
  },
  {
   "cell_type": "code",
   "execution_count": 1,
   "metadata": {},
   "outputs": [],
   "source": [
    "\n",
    "import cv2\n",
    "import numpy as np\n",
    "import matplotlib.pyplot as plt\n",
    "import tensorflow as tf\n",
    "from tensorflow import keras\n",
    "from keras.models import Sequential\n",
    "from keras.layers import Dense, Conv2D, MaxPooling2D, Flatten, RandomFlip, RandomRotation, Resizing, Rescaling, BatchNormalization, SeparableConv2D, Input, Dropout, GlobalAveragePooling2D\n",
    "from keras.callbacks import EarlyStopping\n",
    "from tensorflow.keras.preprocessing.image import ImageDataGenerator\n",
    "\n"
   ]
  },
  {
   "cell_type": "markdown",
   "metadata": {},
   "source": [
    "# Define som key parameters"
   ]
  },
  {
   "cell_type": "code",
   "execution_count": 2,
   "metadata": {},
   "outputs": [],
   "source": [
    "Batch_size = 32\n",
    "Img_W = 256\n",
    "Img_H = 256\n",
    "Epoch = 5\n",
    "Channels = 3\n",
    "\n",
    "Input_shape = [Batch_size, Img_H, Img_W, Channels]"
   ]
  },
  {
   "cell_type": "markdown",
   "metadata": {},
   "source": [
    "# Define dataset"
   ]
  },
  {
   "cell_type": "code",
   "execution_count": 3,
   "metadata": {},
   "outputs": [],
   "source": [
    "# train_path = 'Shudan_PythonKurs/Project/dataset/Train'\n",
    "# valid_path = 'Shudan_PythonKurs/Project/dataset/Validation'\n",
    "# test_path = 'Shudan_PythonKurs/Project/dataset/Test'"
   ]
  },
  {
   "cell_type": "code",
   "execution_count": 4,
   "metadata": {},
   "outputs": [
    {
     "name": "stdout",
     "output_type": "stream",
     "text": [
      "Found 1400 files belonging to 4 classes.\n",
      "Found 400 files belonging to 4 classes.\n",
      "Found 500 files belonging to 4 classes.\n"
     ]
    }
   ],
   "source": [
    "Train_data = keras.utils.image_dataset_from_directory(\n",
    "    '/Shudan_PythonKurs/Project/dataset/Train',\n",
    "    labels='inferred',\n",
    "    label_mode='categorical',\n",
    "    seed=123,\n",
    "    shuffle=True\n",
    ")\n",
    "Validation_data = keras.utils.image_dataset_from_directory(\n",
    "    '/Shudan_PythonKurs/Project/dataset/Validation',\n",
    "    labels='inferred',\n",
    "    label_mode='categorical',\n",
    "    seed=123,\n",
    "    shuffle=True\n",
    "    )\n",
    "Test_data = keras.utils.image_dataset_from_directory(\n",
    "    '/Shudan_PythonKurs/Project/dataset/Test',\n",
    "    labels='inferred',\n",
    "    label_mode='categorical',\n",
    "    shuffle=True\n",
    ")"
   ]
  },
  {
   "cell_type": "code",
   "execution_count": 5,
   "metadata": {},
   "outputs": [
    {
     "data": {
      "text/plain": [
       "['forest', 'freeway', 'residential', 'river']"
      ]
     },
     "execution_count": 5,
     "metadata": {},
     "output_type": "execute_result"
    }
   ],
   "source": [
    "classes = Train_data.class_names\n",
    "classes"
   ]
  },
  {
   "cell_type": "code",
   "execution_count": 6,
   "metadata": {},
   "outputs": [
    {
     "name": "stdout",
     "output_type": "stream",
     "text": [
      "{'forest': 0, 'freeway': 1, 'residential': 2, 'river': 3}\n"
     ]
    }
   ],
   "source": [
    "class_indices = {}\n",
    "\n",
    "# Iterate over the dataset to collect the class indices\n",
    "for images, labels in Train_data:\n",
    "    for i, class_name in enumerate(Train_data.class_names):\n",
    "        class_indices[class_name] = i\n",
    "    break  \n",
    "\n",
    "print(class_indices)"
   ]
  },
  {
   "cell_type": "markdown",
   "metadata": {},
   "source": [
    "# Model building"
   ]
  },
  {
   "cell_type": "code",
   "execution_count": 7,
   "metadata": {},
   "outputs": [],
   "source": [
    "# Define augmentation layer which will be used in the model\n",
    "\n",
    "augmentation = Sequential([\n",
    "    Resizing(Img_W, Img_H),\n",
    "    Rescaling(1.0/255),\n",
    "    RandomFlip(mode = \"horizontal_and_vertical\"),\n",
    "    RandomRotation(0.1),\n",
    "])"
   ]
  },
  {
   "cell_type": "code",
   "execution_count": 8,
   "metadata": {},
   "outputs": [
    {
     "name": "stdout",
     "output_type": "stream",
     "text": [
      "Data Shape: (32, 256, 256, 3)\n",
      "Label Shape: (32, 4)\n"
     ]
    }
   ],
   "source": [
    "for data_batch, label_batch in Train_data:\n",
    "    print('Data Shape:', data_batch.shape)\n",
    "    print('Label Shape:', label_batch.shape)\n",
    "    break"
   ]
  },
  {
   "cell_type": "code",
   "execution_count": 9,
   "metadata": {},
   "outputs": [
    {
     "data": {
      "text/html": [
       "<pre style=\"white-space:pre;overflow-x:auto;line-height:normal;font-family:Menlo,'DejaVu Sans Mono',consolas,'Courier New',monospace\"><span style=\"font-weight: bold\">Model: \"sequential_1\"</span>\n",
       "</pre>\n"
      ],
      "text/plain": [
       "\u001b[1mModel: \"sequential_1\"\u001b[0m\n"
      ]
     },
     "metadata": {},
     "output_type": "display_data"
    },
    {
     "data": {
      "text/html": [
       "<pre style=\"white-space:pre;overflow-x:auto;line-height:normal;font-family:Menlo,'DejaVu Sans Mono',consolas,'Courier New',monospace\">┏━━━━━━━━━━━━━━━━━━━━━━━━━━━━━━━━━┳━━━━━━━━━━━━━━━━━━━━━━━━┳━━━━━━━━━━━━━━━┓\n",
       "┃<span style=\"font-weight: bold\"> Layer (type)                    </span>┃<span style=\"font-weight: bold\"> Output Shape           </span>┃<span style=\"font-weight: bold\">       Param # </span>┃\n",
       "┡━━━━━━━━━━━━━━━━━━━━━━━━━━━━━━━━━╇━━━━━━━━━━━━━━━━━━━━━━━━╇━━━━━━━━━━━━━━━┩\n",
       "│ sequential (<span style=\"color: #0087ff; text-decoration-color: #0087ff\">Sequential</span>)         │ (<span style=\"color: #00d7ff; text-decoration-color: #00d7ff\">None</span>, <span style=\"color: #00af00; text-decoration-color: #00af00\">256</span>, <span style=\"color: #00af00; text-decoration-color: #00af00\">256</span>, <span style=\"color: #00af00; text-decoration-color: #00af00\">3</span>)    │             <span style=\"color: #00af00; text-decoration-color: #00af00\">0</span> │\n",
       "├─────────────────────────────────┼────────────────────────┼───────────────┤\n",
       "│ conv2d (<span style=\"color: #0087ff; text-decoration-color: #0087ff\">Conv2D</span>)                 │ (<span style=\"color: #00d7ff; text-decoration-color: #00d7ff\">None</span>, <span style=\"color: #00af00; text-decoration-color: #00af00\">256</span>, <span style=\"color: #00af00; text-decoration-color: #00af00\">256</span>, <span style=\"color: #00af00; text-decoration-color: #00af00\">32</span>)   │           <span style=\"color: #00af00; text-decoration-color: #00af00\">896</span> │\n",
       "├─────────────────────────────────┼────────────────────────┼───────────────┤\n",
       "│ max_pooling2d (<span style=\"color: #0087ff; text-decoration-color: #0087ff\">MaxPooling2D</span>)    │ (<span style=\"color: #00d7ff; text-decoration-color: #00d7ff\">None</span>, <span style=\"color: #00af00; text-decoration-color: #00af00\">128</span>, <span style=\"color: #00af00; text-decoration-color: #00af00\">128</span>, <span style=\"color: #00af00; text-decoration-color: #00af00\">32</span>)   │             <span style=\"color: #00af00; text-decoration-color: #00af00\">0</span> │\n",
       "├─────────────────────────────────┼────────────────────────┼───────────────┤\n",
       "│ batch_normalization             │ (<span style=\"color: #00d7ff; text-decoration-color: #00d7ff\">None</span>, <span style=\"color: #00af00; text-decoration-color: #00af00\">128</span>, <span style=\"color: #00af00; text-decoration-color: #00af00\">128</span>, <span style=\"color: #00af00; text-decoration-color: #00af00\">32</span>)   │           <span style=\"color: #00af00; text-decoration-color: #00af00\">128</span> │\n",
       "│ (<span style=\"color: #0087ff; text-decoration-color: #0087ff\">BatchNormalization</span>)            │                        │               │\n",
       "├─────────────────────────────────┼────────────────────────┼───────────────┤\n",
       "│ conv2d_1 (<span style=\"color: #0087ff; text-decoration-color: #0087ff\">Conv2D</span>)               │ (<span style=\"color: #00d7ff; text-decoration-color: #00d7ff\">None</span>, <span style=\"color: #00af00; text-decoration-color: #00af00\">128</span>, <span style=\"color: #00af00; text-decoration-color: #00af00\">128</span>, <span style=\"color: #00af00; text-decoration-color: #00af00\">64</span>)   │        <span style=\"color: #00af00; text-decoration-color: #00af00\">18,496</span> │\n",
       "├─────────────────────────────────┼────────────────────────┼───────────────┤\n",
       "│ conv2d_2 (<span style=\"color: #0087ff; text-decoration-color: #0087ff\">Conv2D</span>)               │ (<span style=\"color: #00d7ff; text-decoration-color: #00d7ff\">None</span>, <span style=\"color: #00af00; text-decoration-color: #00af00\">128</span>, <span style=\"color: #00af00; text-decoration-color: #00af00\">128</span>, <span style=\"color: #00af00; text-decoration-color: #00af00\">128</span>)  │        <span style=\"color: #00af00; text-decoration-color: #00af00\">73,856</span> │\n",
       "├─────────────────────────────────┼────────────────────────┼───────────────┤\n",
       "│ dropout (<span style=\"color: #0087ff; text-decoration-color: #0087ff\">Dropout</span>)               │ (<span style=\"color: #00d7ff; text-decoration-color: #00d7ff\">None</span>, <span style=\"color: #00af00; text-decoration-color: #00af00\">128</span>, <span style=\"color: #00af00; text-decoration-color: #00af00\">128</span>, <span style=\"color: #00af00; text-decoration-color: #00af00\">128</span>)  │             <span style=\"color: #00af00; text-decoration-color: #00af00\">0</span> │\n",
       "├─────────────────────────────────┼────────────────────────┼───────────────┤\n",
       "│ max_pooling2d_1 (<span style=\"color: #0087ff; text-decoration-color: #0087ff\">MaxPooling2D</span>)  │ (<span style=\"color: #00d7ff; text-decoration-color: #00d7ff\">None</span>, <span style=\"color: #00af00; text-decoration-color: #00af00\">64</span>, <span style=\"color: #00af00; text-decoration-color: #00af00\">64</span>, <span style=\"color: #00af00; text-decoration-color: #00af00\">128</span>)    │             <span style=\"color: #00af00; text-decoration-color: #00af00\">0</span> │\n",
       "├─────────────────────────────────┼────────────────────────┼───────────────┤\n",
       "│ conv2d_3 (<span style=\"color: #0087ff; text-decoration-color: #0087ff\">Conv2D</span>)               │ (<span style=\"color: #00d7ff; text-decoration-color: #00d7ff\">None</span>, <span style=\"color: #00af00; text-decoration-color: #00af00\">64</span>, <span style=\"color: #00af00; text-decoration-color: #00af00\">64</span>, <span style=\"color: #00af00; text-decoration-color: #00af00\">128</span>)    │       <span style=\"color: #00af00; text-decoration-color: #00af00\">147,584</span> │\n",
       "├─────────────────────────────────┼────────────────────────┼───────────────┤\n",
       "│ conv2d_4 (<span style=\"color: #0087ff; text-decoration-color: #0087ff\">Conv2D</span>)               │ (<span style=\"color: #00d7ff; text-decoration-color: #00d7ff\">None</span>, <span style=\"color: #00af00; text-decoration-color: #00af00\">64</span>, <span style=\"color: #00af00; text-decoration-color: #00af00\">64</span>, <span style=\"color: #00af00; text-decoration-color: #00af00\">128</span>)    │       <span style=\"color: #00af00; text-decoration-color: #00af00\">147,584</span> │\n",
       "├─────────────────────────────────┼────────────────────────┼───────────────┤\n",
       "│ dropout_1 (<span style=\"color: #0087ff; text-decoration-color: #0087ff\">Dropout</span>)             │ (<span style=\"color: #00d7ff; text-decoration-color: #00d7ff\">None</span>, <span style=\"color: #00af00; text-decoration-color: #00af00\">64</span>, <span style=\"color: #00af00; text-decoration-color: #00af00\">64</span>, <span style=\"color: #00af00; text-decoration-color: #00af00\">128</span>)    │             <span style=\"color: #00af00; text-decoration-color: #00af00\">0</span> │\n",
       "├─────────────────────────────────┼────────────────────────┼───────────────┤\n",
       "│ global_average_pooling2d        │ (<span style=\"color: #00d7ff; text-decoration-color: #00d7ff\">None</span>, <span style=\"color: #00af00; text-decoration-color: #00af00\">128</span>)            │             <span style=\"color: #00af00; text-decoration-color: #00af00\">0</span> │\n",
       "│ (<span style=\"color: #0087ff; text-decoration-color: #0087ff\">GlobalAveragePooling2D</span>)        │                        │               │\n",
       "├─────────────────────────────────┼────────────────────────┼───────────────┤\n",
       "│ flatten (<span style=\"color: #0087ff; text-decoration-color: #0087ff\">Flatten</span>)               │ (<span style=\"color: #00d7ff; text-decoration-color: #00d7ff\">None</span>, <span style=\"color: #00af00; text-decoration-color: #00af00\">128</span>)            │             <span style=\"color: #00af00; text-decoration-color: #00af00\">0</span> │\n",
       "├─────────────────────────────────┼────────────────────────┼───────────────┤\n",
       "│ dense (<span style=\"color: #0087ff; text-decoration-color: #0087ff\">Dense</span>)                   │ (<span style=\"color: #00d7ff; text-decoration-color: #00d7ff\">None</span>, <span style=\"color: #00af00; text-decoration-color: #00af00\">256</span>)            │        <span style=\"color: #00af00; text-decoration-color: #00af00\">33,024</span> │\n",
       "├─────────────────────────────────┼────────────────────────┼───────────────┤\n",
       "│ dropout_2 (<span style=\"color: #0087ff; text-decoration-color: #0087ff\">Dropout</span>)             │ (<span style=\"color: #00d7ff; text-decoration-color: #00d7ff\">None</span>, <span style=\"color: #00af00; text-decoration-color: #00af00\">256</span>)            │             <span style=\"color: #00af00; text-decoration-color: #00af00\">0</span> │\n",
       "├─────────────────────────────────┼────────────────────────┼───────────────┤\n",
       "│ dense_1 (<span style=\"color: #0087ff; text-decoration-color: #0087ff\">Dense</span>)                 │ (<span style=\"color: #00d7ff; text-decoration-color: #00d7ff\">None</span>, <span style=\"color: #00af00; text-decoration-color: #00af00\">4</span>)              │         <span style=\"color: #00af00; text-decoration-color: #00af00\">1,028</span> │\n",
       "└─────────────────────────────────┴────────────────────────┴───────────────┘\n",
       "</pre>\n"
      ],
      "text/plain": [
       "┏━━━━━━━━━━━━━━━━━━━━━━━━━━━━━━━━━┳━━━━━━━━━━━━━━━━━━━━━━━━┳━━━━━━━━━━━━━━━┓\n",
       "┃\u001b[1m \u001b[0m\u001b[1mLayer (type)                   \u001b[0m\u001b[1m \u001b[0m┃\u001b[1m \u001b[0m\u001b[1mOutput Shape          \u001b[0m\u001b[1m \u001b[0m┃\u001b[1m \u001b[0m\u001b[1m      Param #\u001b[0m\u001b[1m \u001b[0m┃\n",
       "┡━━━━━━━━━━━━━━━━━━━━━━━━━━━━━━━━━╇━━━━━━━━━━━━━━━━━━━━━━━━╇━━━━━━━━━━━━━━━┩\n",
       "│ sequential (\u001b[38;5;33mSequential\u001b[0m)         │ (\u001b[38;5;45mNone\u001b[0m, \u001b[38;5;34m256\u001b[0m, \u001b[38;5;34m256\u001b[0m, \u001b[38;5;34m3\u001b[0m)    │             \u001b[38;5;34m0\u001b[0m │\n",
       "├─────────────────────────────────┼────────────────────────┼───────────────┤\n",
       "│ conv2d (\u001b[38;5;33mConv2D\u001b[0m)                 │ (\u001b[38;5;45mNone\u001b[0m, \u001b[38;5;34m256\u001b[0m, \u001b[38;5;34m256\u001b[0m, \u001b[38;5;34m32\u001b[0m)   │           \u001b[38;5;34m896\u001b[0m │\n",
       "├─────────────────────────────────┼────────────────────────┼───────────────┤\n",
       "│ max_pooling2d (\u001b[38;5;33mMaxPooling2D\u001b[0m)    │ (\u001b[38;5;45mNone\u001b[0m, \u001b[38;5;34m128\u001b[0m, \u001b[38;5;34m128\u001b[0m, \u001b[38;5;34m32\u001b[0m)   │             \u001b[38;5;34m0\u001b[0m │\n",
       "├─────────────────────────────────┼────────────────────────┼───────────────┤\n",
       "│ batch_normalization             │ (\u001b[38;5;45mNone\u001b[0m, \u001b[38;5;34m128\u001b[0m, \u001b[38;5;34m128\u001b[0m, \u001b[38;5;34m32\u001b[0m)   │           \u001b[38;5;34m128\u001b[0m │\n",
       "│ (\u001b[38;5;33mBatchNormalization\u001b[0m)            │                        │               │\n",
       "├─────────────────────────────────┼────────────────────────┼───────────────┤\n",
       "│ conv2d_1 (\u001b[38;5;33mConv2D\u001b[0m)               │ (\u001b[38;5;45mNone\u001b[0m, \u001b[38;5;34m128\u001b[0m, \u001b[38;5;34m128\u001b[0m, \u001b[38;5;34m64\u001b[0m)   │        \u001b[38;5;34m18,496\u001b[0m │\n",
       "├─────────────────────────────────┼────────────────────────┼───────────────┤\n",
       "│ conv2d_2 (\u001b[38;5;33mConv2D\u001b[0m)               │ (\u001b[38;5;45mNone\u001b[0m, \u001b[38;5;34m128\u001b[0m, \u001b[38;5;34m128\u001b[0m, \u001b[38;5;34m128\u001b[0m)  │        \u001b[38;5;34m73,856\u001b[0m │\n",
       "├─────────────────────────────────┼────────────────────────┼───────────────┤\n",
       "│ dropout (\u001b[38;5;33mDropout\u001b[0m)               │ (\u001b[38;5;45mNone\u001b[0m, \u001b[38;5;34m128\u001b[0m, \u001b[38;5;34m128\u001b[0m, \u001b[38;5;34m128\u001b[0m)  │             \u001b[38;5;34m0\u001b[0m │\n",
       "├─────────────────────────────────┼────────────────────────┼───────────────┤\n",
       "│ max_pooling2d_1 (\u001b[38;5;33mMaxPooling2D\u001b[0m)  │ (\u001b[38;5;45mNone\u001b[0m, \u001b[38;5;34m64\u001b[0m, \u001b[38;5;34m64\u001b[0m, \u001b[38;5;34m128\u001b[0m)    │             \u001b[38;5;34m0\u001b[0m │\n",
       "├─────────────────────────────────┼────────────────────────┼───────────────┤\n",
       "│ conv2d_3 (\u001b[38;5;33mConv2D\u001b[0m)               │ (\u001b[38;5;45mNone\u001b[0m, \u001b[38;5;34m64\u001b[0m, \u001b[38;5;34m64\u001b[0m, \u001b[38;5;34m128\u001b[0m)    │       \u001b[38;5;34m147,584\u001b[0m │\n",
       "├─────────────────────────────────┼────────────────────────┼───────────────┤\n",
       "│ conv2d_4 (\u001b[38;5;33mConv2D\u001b[0m)               │ (\u001b[38;5;45mNone\u001b[0m, \u001b[38;5;34m64\u001b[0m, \u001b[38;5;34m64\u001b[0m, \u001b[38;5;34m128\u001b[0m)    │       \u001b[38;5;34m147,584\u001b[0m │\n",
       "├─────────────────────────────────┼────────────────────────┼───────────────┤\n",
       "│ dropout_1 (\u001b[38;5;33mDropout\u001b[0m)             │ (\u001b[38;5;45mNone\u001b[0m, \u001b[38;5;34m64\u001b[0m, \u001b[38;5;34m64\u001b[0m, \u001b[38;5;34m128\u001b[0m)    │             \u001b[38;5;34m0\u001b[0m │\n",
       "├─────────────────────────────────┼────────────────────────┼───────────────┤\n",
       "│ global_average_pooling2d        │ (\u001b[38;5;45mNone\u001b[0m, \u001b[38;5;34m128\u001b[0m)            │             \u001b[38;5;34m0\u001b[0m │\n",
       "│ (\u001b[38;5;33mGlobalAveragePooling2D\u001b[0m)        │                        │               │\n",
       "├─────────────────────────────────┼────────────────────────┼───────────────┤\n",
       "│ flatten (\u001b[38;5;33mFlatten\u001b[0m)               │ (\u001b[38;5;45mNone\u001b[0m, \u001b[38;5;34m128\u001b[0m)            │             \u001b[38;5;34m0\u001b[0m │\n",
       "├─────────────────────────────────┼────────────────────────┼───────────────┤\n",
       "│ dense (\u001b[38;5;33mDense\u001b[0m)                   │ (\u001b[38;5;45mNone\u001b[0m, \u001b[38;5;34m256\u001b[0m)            │        \u001b[38;5;34m33,024\u001b[0m │\n",
       "├─────────────────────────────────┼────────────────────────┼───────────────┤\n",
       "│ dropout_2 (\u001b[38;5;33mDropout\u001b[0m)             │ (\u001b[38;5;45mNone\u001b[0m, \u001b[38;5;34m256\u001b[0m)            │             \u001b[38;5;34m0\u001b[0m │\n",
       "├─────────────────────────────────┼────────────────────────┼───────────────┤\n",
       "│ dense_1 (\u001b[38;5;33mDense\u001b[0m)                 │ (\u001b[38;5;45mNone\u001b[0m, \u001b[38;5;34m4\u001b[0m)              │         \u001b[38;5;34m1,028\u001b[0m │\n",
       "└─────────────────────────────────┴────────────────────────┴───────────────┘\n"
      ]
     },
     "metadata": {},
     "output_type": "display_data"
    },
    {
     "data": {
      "text/html": [
       "<pre style=\"white-space:pre;overflow-x:auto;line-height:normal;font-family:Menlo,'DejaVu Sans Mono',consolas,'Courier New',monospace\"><span style=\"font-weight: bold\"> Total params: </span><span style=\"color: #00af00; text-decoration-color: #00af00\">422,596</span> (1.61 MB)\n",
       "</pre>\n"
      ],
      "text/plain": [
       "\u001b[1m Total params: \u001b[0m\u001b[38;5;34m422,596\u001b[0m (1.61 MB)\n"
      ]
     },
     "metadata": {},
     "output_type": "display_data"
    },
    {
     "data": {
      "text/html": [
       "<pre style=\"white-space:pre;overflow-x:auto;line-height:normal;font-family:Menlo,'DejaVu Sans Mono',consolas,'Courier New',monospace\"><span style=\"font-weight: bold\"> Trainable params: </span><span style=\"color: #00af00; text-decoration-color: #00af00\">422,532</span> (1.61 MB)\n",
       "</pre>\n"
      ],
      "text/plain": [
       "\u001b[1m Trainable params: \u001b[0m\u001b[38;5;34m422,532\u001b[0m (1.61 MB)\n"
      ]
     },
     "metadata": {},
     "output_type": "display_data"
    },
    {
     "data": {
      "text/html": [
       "<pre style=\"white-space:pre;overflow-x:auto;line-height:normal;font-family:Menlo,'DejaVu Sans Mono',consolas,'Courier New',monospace\"><span style=\"font-weight: bold\"> Non-trainable params: </span><span style=\"color: #00af00; text-decoration-color: #00af00\">64</span> (256.00 B)\n",
       "</pre>\n"
      ],
      "text/plain": [
       "\u001b[1m Non-trainable params: \u001b[0m\u001b[38;5;34m64\u001b[0m (256.00 B)\n"
      ]
     },
     "metadata": {},
     "output_type": "display_data"
    }
   ],
   "source": [
    "# Define a Convolutional Neural Network(CNN) model with several convolutional layers, 1 flatten layer and 2 dense layers. The final layer will have softmax activation because it is a a multiclass classification model.\n",
    "\n",
    "model = Sequential([\n",
    "    \n",
    "    \n",
    "    Input(shape=(256,256,3)),\n",
    "    \n",
    "    augmentation,\n",
    "    \n",
    "    Conv2D(32, kernel_size=(3,3), activation='relu', padding = 'same'),\n",
    "    MaxPooling2D((2,2), strides=2),\n",
    "    BatchNormalization(),\n",
    "    \n",
    "    Conv2D(64, kernel_size=(3,3), activation='relu',padding = 'same'),\n",
    "    Conv2D(128, kernel_size=(3,3), activation='relu',padding = 'same'),\n",
    "    Dropout(0.5),\n",
    "    MaxPooling2D((2,2),strides=2),\n",
    "    \n",
    "    \n",
    "    Conv2D(128, kernel_size=(3,3), activation='relu',padding = 'same'),\n",
    "    Conv2D(128, kernel_size=(3,3), activation='relu',padding = 'same'),\n",
    "    Dropout(0.5),\n",
    "    GlobalAveragePooling2D(),\n",
    "    \n",
    "    Flatten(),\n",
    "    \n",
    "    Dense(256, activation='relu'),\n",
    "    Dropout(0.5),\n",
    "    Dense(len(classes), activation='softmax')\n",
    "    \n",
    "])\n",
    "\n",
    "call_back = EarlyStopping(monitor='loss', patience = 5, mode='min')\n",
    "\n",
    "model.compile(\n",
    "    optimizer=tf.keras.optimizers.Adam(learning_rate=0.0001),\n",
    "    loss= 'categorical_crossentropy',\n",
    "    metrics= ['accuracy']\n",
    ")\n",
    "\n",
    "\n",
    "model.summary()"
   ]
  },
  {
   "cell_type": "code",
   "execution_count": 10,
   "metadata": {},
   "outputs": [
    {
     "name": "stdout",
     "output_type": "stream",
     "text": [
      "Epoch 1/50\n",
      "44/44 - 291s - 7s/step - accuracy: 0.3986 - loss: 1.2852 - val_accuracy: 0.2650 - val_loss: 1.3702\n",
      "Epoch 2/50\n",
      "44/44 - 320s - 7s/step - accuracy: 0.5021 - loss: 1.0989 - val_accuracy: 0.4150 - val_loss: 1.3363\n",
      "Epoch 3/50\n",
      "44/44 - 312s - 7s/step - accuracy: 0.5729 - loss: 1.0361 - val_accuracy: 0.3975 - val_loss: 1.3312\n",
      "Epoch 4/50\n",
      "44/44 - 321s - 7s/step - accuracy: 0.5821 - loss: 1.0028 - val_accuracy: 0.4675 - val_loss: 1.3003\n",
      "Epoch 5/50\n",
      "44/44 - 320s - 7s/step - accuracy: 0.5929 - loss: 0.9766 - val_accuracy: 0.5200 - val_loss: 1.2551\n",
      "Epoch 6/50\n",
      "44/44 - 323s - 7s/step - accuracy: 0.6086 - loss: 0.9371 - val_accuracy: 0.6000 - val_loss: 1.2098\n",
      "Epoch 7/50\n",
      "44/44 - 320s - 7s/step - accuracy: 0.6343 - loss: 0.8786 - val_accuracy: 0.6650 - val_loss: 1.1583\n",
      "Epoch 8/50\n",
      "44/44 - 325s - 7s/step - accuracy: 0.6443 - loss: 0.8493 - val_accuracy: 0.6325 - val_loss: 1.1150\n",
      "Epoch 9/50\n",
      "44/44 - 325s - 7s/step - accuracy: 0.6664 - loss: 0.8396 - val_accuracy: 0.6075 - val_loss: 1.0921\n",
      "Epoch 10/50\n",
      "44/44 - 325s - 7s/step - accuracy: 0.6914 - loss: 0.7813 - val_accuracy: 0.6625 - val_loss: 0.9857\n",
      "Epoch 11/50\n",
      "44/44 - 392s - 9s/step - accuracy: 0.6871 - loss: 0.7607 - val_accuracy: 0.6725 - val_loss: 0.9587\n",
      "Epoch 12/50\n",
      "44/44 - 334s - 8s/step - accuracy: 0.6979 - loss: 0.7345 - val_accuracy: 0.7025 - val_loss: 0.8986\n",
      "Epoch 13/50\n",
      "44/44 - 327s - 7s/step - accuracy: 0.7221 - loss: 0.7010 - val_accuracy: 0.7425 - val_loss: 0.8115\n",
      "Epoch 14/50\n",
      "44/44 - 331s - 8s/step - accuracy: 0.7329 - loss: 0.6502 - val_accuracy: 0.7550 - val_loss: 0.7791\n",
      "Epoch 15/50\n",
      "44/44 - 325s - 7s/step - accuracy: 0.7336 - loss: 0.6591 - val_accuracy: 0.7475 - val_loss: 0.7422\n",
      "Epoch 16/50\n",
      "44/44 - 320s - 7s/step - accuracy: 0.7414 - loss: 0.6456 - val_accuracy: 0.7500 - val_loss: 0.7526\n",
      "Epoch 17/50\n",
      "44/44 - 320s - 7s/step - accuracy: 0.7736 - loss: 0.5944 - val_accuracy: 0.7825 - val_loss: 0.7200\n",
      "Epoch 18/50\n",
      "44/44 - 318s - 7s/step - accuracy: 0.7571 - loss: 0.6307 - val_accuracy: 0.7525 - val_loss: 0.7374\n",
      "Epoch 19/50\n",
      "44/44 - 320s - 7s/step - accuracy: 0.7686 - loss: 0.5795 - val_accuracy: 0.7975 - val_loss: 0.6116\n",
      "Epoch 20/50\n",
      "44/44 - 323s - 7s/step - accuracy: 0.8000 - loss: 0.5510 - val_accuracy: 0.7950 - val_loss: 0.6278\n",
      "Epoch 21/50\n",
      "44/44 - 321s - 7s/step - accuracy: 0.7857 - loss: 0.5365 - val_accuracy: 0.7825 - val_loss: 0.5917\n",
      "Epoch 22/50\n",
      "44/44 - 324s - 7s/step - accuracy: 0.7850 - loss: 0.5391 - val_accuracy: 0.7375 - val_loss: 0.6274\n",
      "Epoch 23/50\n",
      "44/44 - 324s - 7s/step - accuracy: 0.7957 - loss: 0.5158 - val_accuracy: 0.8600 - val_loss: 0.5210\n",
      "Epoch 24/50\n",
      "44/44 - 320s - 7s/step - accuracy: 0.8150 - loss: 0.4846 - val_accuracy: 0.8525 - val_loss: 0.5287\n",
      "Epoch 25/50\n",
      "44/44 - 326s - 7s/step - accuracy: 0.8221 - loss: 0.4668 - val_accuracy: 0.8425 - val_loss: 0.5061\n",
      "Epoch 26/50\n",
      "44/44 - 324s - 7s/step - accuracy: 0.8271 - loss: 0.4518 - val_accuracy: 0.8600 - val_loss: 0.4877\n",
      "Epoch 27/50\n",
      "44/44 - 322s - 7s/step - accuracy: 0.8171 - loss: 0.4491 - val_accuracy: 0.8525 - val_loss: 0.4626\n",
      "Epoch 28/50\n",
      "44/44 - 324s - 7s/step - accuracy: 0.8364 - loss: 0.4339 - val_accuracy: 0.8450 - val_loss: 0.4853\n",
      "Epoch 29/50\n",
      "44/44 - 321s - 7s/step - accuracy: 0.8293 - loss: 0.4364 - val_accuracy: 0.8200 - val_loss: 0.4787\n",
      "Epoch 30/50\n",
      "44/44 - 323s - 7s/step - accuracy: 0.8386 - loss: 0.4332 - val_accuracy: 0.8825 - val_loss: 0.4552\n",
      "Epoch 31/50\n",
      "44/44 - 335s - 8s/step - accuracy: 0.8400 - loss: 0.4122 - val_accuracy: 0.8575 - val_loss: 0.4428\n",
      "Epoch 32/50\n",
      "44/44 - 321s - 7s/step - accuracy: 0.8464 - loss: 0.3898 - val_accuracy: 0.8800 - val_loss: 0.4191\n",
      "Epoch 33/50\n",
      "44/44 - 323s - 7s/step - accuracy: 0.8700 - loss: 0.3664 - val_accuracy: 0.8775 - val_loss: 0.4252\n",
      "Epoch 34/50\n",
      "44/44 - 325s - 7s/step - accuracy: 0.8493 - loss: 0.4094 - val_accuracy: 0.8675 - val_loss: 0.4399\n",
      "Epoch 35/50\n",
      "44/44 - 324s - 7s/step - accuracy: 0.8657 - loss: 0.3622 - val_accuracy: 0.9000 - val_loss: 0.3781\n",
      "Epoch 36/50\n",
      "44/44 - 329s - 7s/step - accuracy: 0.8793 - loss: 0.3370 - val_accuracy: 0.8450 - val_loss: 0.4231\n",
      "Epoch 37/50\n",
      "44/44 - 327s - 7s/step - accuracy: 0.8721 - loss: 0.3492 - val_accuracy: 0.8775 - val_loss: 0.3803\n",
      "Epoch 38/50\n",
      "44/44 - 323s - 7s/step - accuracy: 0.8571 - loss: 0.3807 - val_accuracy: 0.8650 - val_loss: 0.4763\n",
      "Epoch 39/50\n",
      "44/44 - 321s - 7s/step - accuracy: 0.8807 - loss: 0.3361 - val_accuracy: 0.8650 - val_loss: 0.4428\n",
      "Epoch 40/50\n",
      "44/44 - 324s - 7s/step - accuracy: 0.8929 - loss: 0.3059 - val_accuracy: 0.8850 - val_loss: 0.3625\n",
      "Epoch 41/50\n",
      "44/44 - 326s - 7s/step - accuracy: 0.8793 - loss: 0.3271 - val_accuracy: 0.9050 - val_loss: 0.3610\n",
      "Epoch 42/50\n",
      "44/44 - 324s - 7s/step - accuracy: 0.8850 - loss: 0.3034 - val_accuracy: 0.9050 - val_loss: 0.3462\n",
      "Epoch 43/50\n",
      "44/44 - 328s - 7s/step - accuracy: 0.8743 - loss: 0.3167 - val_accuracy: 0.8925 - val_loss: 0.3546\n",
      "Epoch 44/50\n",
      "44/44 - 322s - 7s/step - accuracy: 0.8864 - loss: 0.3080 - val_accuracy: 0.8150 - val_loss: 0.5023\n",
      "Epoch 45/50\n",
      "44/44 - 328s - 7s/step - accuracy: 0.8921 - loss: 0.2948 - val_accuracy: 0.8850 - val_loss: 0.3754\n",
      "Epoch 46/50\n",
      "44/44 - 329s - 7s/step - accuracy: 0.8871 - loss: 0.3148 - val_accuracy: 0.8850 - val_loss: 0.3840\n",
      "Epoch 47/50\n",
      "44/44 - 330s - 7s/step - accuracy: 0.9164 - loss: 0.2799 - val_accuracy: 0.8775 - val_loss: 0.3317\n",
      "Epoch 48/50\n",
      "44/44 - 329s - 7s/step - accuracy: 0.8950 - loss: 0.2898 - val_accuracy: 0.9175 - val_loss: 0.3490\n",
      "Epoch 49/50\n",
      "44/44 - 326s - 7s/step - accuracy: 0.8993 - loss: 0.2892 - val_accuracy: 0.9150 - val_loss: 0.3264\n",
      "Epoch 50/50\n",
      "44/44 - 322s - 7s/step - accuracy: 0.9057 - loss: 0.2633 - val_accuracy: 0.9000 - val_loss: 0.3102\n"
     ]
    }
   ],
   "source": [
    "CNN_model = model.fit(x=Train_data, epochs=50, batch_size=Batch_size, verbose=2, validation_data=Validation_data, callbacks=call_back)"
   ]
  },
  {
   "cell_type": "markdown",
   "metadata": {},
   "source": [
    "# Evaluating model"
   ]
  },
  {
   "cell_type": "code",
   "execution_count": 11,
   "metadata": {},
   "outputs": [
    {
     "data": {
      "image/png": "[encoded data removed]",
      "text/plain": [
       "<Figure size 800x300 with 2 Axes>"
      ]
     },
     "metadata": {},
     "output_type": "display_data"
    }
   ],
   "source": [
    "# Accuracy and loss curve\n",
    "\n",
    "plt.figure(figsize=(8,3))\n",
    "plt.subplot(1,2,1)\n",
    "plt.plot(CNN_model.history['accuracy'], label='Training Accuracy')\n",
    "plt.plot(CNN_model.history['val_accuracy'], label='Validation Accuracy')\n",
    "plt.legend()\n",
    "plt.title('Training vs Validation Accuracy')\n",
    "\n",
    "plt.subplot(1,2,2)\n",
    "plt.plot(CNN_model.history['loss'], label='Training Loss')\n",
    "plt.plot(CNN_model.history['val_loss'], label='Validation Loss')\n",
    "plt.legend()\n",
    "plt.title('Training vs Validation Loss')\n",
    "plt.show()\n"
   ]
  },
  {
   "cell_type": "code",
   "execution_count": 12,
   "metadata": {},
   "outputs": [],
   "source": [
    "\n",
    "\n",
    "# test_data_iterator = iter(Test_data)\n",
    "# test_imgs, test_labels = next(test_data_iterator)\n",
    "# plt.imshow(test_imgs[0])\n",
    "# print(test_labels)"
   ]
  },
  {
   "cell_type": "code",
   "execution_count": 13,
   "metadata": {},
   "outputs": [
    {
     "name": "stdout",
     "output_type": "stream",
     "text": [
      "\u001b[1m16/16\u001b[0m \u001b[32m━━━━━━━━━━━━━━━━━━━━\u001b[0m\u001b[37m\u001b[0m \u001b[1m20s\u001b[0m 1s/step - accuracy: 0.9446 - loss: 0.2523\n",
      "Test accuracy: 95.8\n"
     ]
    }
   ],
   "source": [
    "# Evaluate model on test data\n",
    "\n",
    "test_score = model.evaluate(Test_data)\n",
    "print(f'Test accuracy: {round((test_score[1]*100), 2)}')"
   ]
  },
  {
   "cell_type": "markdown",
   "metadata": {},
   "source": [
    "# Visualize test data with actual labels and predicted labels"
   ]
  },
  {
   "cell_type": "code",
   "execution_count": 14,
   "metadata": {},
   "outputs": [],
   "source": [
    "# # Initialize an empty list to store the labels\n",
    "# labels_list = []\n",
    "\n",
    "# # Iterate over the dataset to collect the labels\n",
    "# for images, labels in Train_data:\n",
    "#     labels_list.append(labels.numpy())\n",
    "\n",
    "# # Convert the list of labels to a NumPy array\n",
    "# labels_array = np.concatenate(labels_list, axis=0)\n",
    "\n",
    "# # Now you have the labels as a NumPy array\n",
    "# print(labels_array)\n",
    "\n",
    "# for batch_image, batch_label in Test_data.take(1):\n",
    "#     predictions_label = model.predict(batch_image)\n",
    "#     plt.figure(figsize=(16,16))\n",
    "    \n",
    "#     for i in range (8):\n",
    "#         i = np.random.choice(8)\n",
    "        \n",
    "#         ax = plt.subplot(2, 4, i+1)\n",
    "#         plt.subplots_adjust(bottom=0.1, right = 0.8, top = 0.9)\n",
    "#         img = batch_image[i].numpy().astype('uint8')\n",
    "#         lbl_actual = classes[int(batch_label[i][0])]\n",
    "#         lbl_pred = classes[np.argmax(predictions_label[i])]\n",
    "#         confidence = round((100 * np.max(predictions_label[i])))\n",
    "        \n",
    "#         # if (lbl_pred == lbl_actual):\n",
    "#         plt.title(f'Actual: {lbl_actual}\\n Predicted: {lbl_pred}\\n Confidence: {confidence}')\n",
    "#         # else:\n",
    "#         #     plt.title(f'Actual: {lbl_actual}\\n Predicted: {lbl_pred}\\n Confidence: {confidence}', color='red')\n",
    "#         plt.imshow(img)\n",
    "#         plt.axis('off')"
   ]
  },
  {
   "cell_type": "markdown",
   "metadata": {},
   "source": []
  }
 ],
 "metadata": {
  "kernelspec": {
   "display_name": "imaclas",
   "language": "python",
   "name": "python3"
  },
  "language_info": {
   "codemirror_mode": {
    "name": "ipython",
    "version": 3
   },
   "file_extension": ".py",
   "mimetype": "text/x-python",
   "name": "python",
   "nbconvert_exporter": "python",
   "pygments_lexer": "ipython3",
   "version": "3.11.9"
  }
 },
 "nbformat": 4,
 "nbformat_minor": 2
}
